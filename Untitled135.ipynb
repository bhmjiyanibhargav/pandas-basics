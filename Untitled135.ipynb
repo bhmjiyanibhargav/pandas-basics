{
 "cells": [
  {
   "cell_type": "markdown",
   "id": "50e1b1f5",
   "metadata": {},
   "source": [
    "# question 01"
   ]
  },
  {
   "cell_type": "raw",
   "id": "b925cefe",
   "metadata": {},
   "source": [
    "Q1. Create a Pandas Series that contains the following data: 4, 8, 15, 16, 23, and 42. Then, print the series."
   ]
  },
  {
   "cell_type": "code",
   "execution_count": 1,
   "id": "8edb981b",
   "metadata": {},
   "outputs": [
    {
     "name": "stdout",
     "output_type": "stream",
     "text": [
      "0     4\n",
      "1     8\n",
      "2    15\n",
      "3    16\n",
      "4    23\n",
      "5    42\n",
      "dtype: int64\n"
     ]
    }
   ],
   "source": [
    "import pandas as pd\n",
    "\n",
    "# Create the Pandas Series\n",
    "data = pd.Series([4, 8, 15, 16, 23, 42])\n",
    "\n",
    "# Print the Series\n",
    "print(data)\n"
   ]
  },
  {
   "cell_type": "markdown",
   "id": "0e7b67b6",
   "metadata": {},
   "source": [
    "# question 02"
   ]
  },
  {
   "cell_type": "raw",
   "id": "7eb0a2c2",
   "metadata": {},
   "source": [
    "Q2. Create a variable of list type containing 10 elements in it, and apply pandas.Series function on the\n",
    "variable print it."
   ]
  },
  {
   "cell_type": "code",
   "execution_count": 2,
   "id": "eb86cd4e",
   "metadata": {},
   "outputs": [
    {
     "name": "stdout",
     "output_type": "stream",
     "text": [
      "0     1\n",
      "1     2\n",
      "2     3\n",
      "3     4\n",
      "4     5\n",
      "5     6\n",
      "6     7\n",
      "7     8\n",
      "8     9\n",
      "9    10\n",
      "dtype: int64\n"
     ]
    }
   ],
   "source": [
    "import pandas as pd\n",
    "\n",
    "# Create the list\n",
    "my_list = [1, 2, 3, 4, 5, 6, 7, 8, 9, 10]\n",
    "\n",
    "# Create the Pandas Series from the list\n",
    "data = pd.Series(my_list)\n",
    "\n",
    "# Print the Series\n",
    "print(data)\n"
   ]
  },
  {
   "cell_type": "markdown",
   "id": "ac041db7",
   "metadata": {},
   "source": [
    "# question 03"
   ]
  },
  {
   "cell_type": "code",
   "execution_count": 3,
   "id": "959076af",
   "metadata": {},
   "outputs": [
    {
     "name": "stdout",
     "output_type": "stream",
     "text": [
      "     Name  Age  Gender\n",
      "0   Alice   25  Female\n",
      "1     Bob   30    Male\n",
      "2  Claire   27  Female\n"
     ]
    }
   ],
   "source": [
    "import pandas as pd\n",
    "\n",
    "# Create the data as a dictionary\n",
    "data = {\n",
    "    'Name': ['Alice', 'Bob', 'Claire'],\n",
    "    'Age': [25, 30, 27],\n",
    "    'Gender': ['Female', 'Male', 'Female']\n",
    "}\n",
    "\n",
    "# Create the Pandas DataFrame\n",
    "df = pd.DataFrame(data)\n",
    "\n",
    "# Print the DataFrame\n",
    "print(df)\n"
   ]
  },
  {
   "cell_type": "markdown",
   "id": "7340b1f9",
   "metadata": {},
   "source": [
    "# question 04"
   ]
  },
  {
   "cell_type": "raw",
   "id": "28dd0e23",
   "metadata": {},
   "source": [
    "What is ‘DataFrame’ in pandas and how is it different from pandas.series? Explain with an example.\n",
    "In pandas, a Series is a one-dimensional labeled array that can hold data of any type, while a DataFrame is a two-dimensional labeled data structure that can hold data of different types in multiple columns.\n",
    "\n",
    "A Series can be thought of as a single column of a table, while a DataFrame can be thought of as a table with multiple columns.\n",
    "\n",
    "Here's an example to illustrate the difference between a Series and a DataFrame:"
   ]
  },
  {
   "cell_type": "code",
   "execution_count": 4,
   "id": "0d853f6e",
   "metadata": {},
   "outputs": [
    {
     "name": "stdout",
     "output_type": "stream",
     "text": [
      "0    1\n",
      "1    2\n",
      "2    3\n",
      "3    4\n",
      "4    5\n",
      "dtype: int64\n",
      "   A  B  C\n",
      "0  1  4  7\n",
      "1  2  5  8\n",
      "2  3  6  9\n"
     ]
    }
   ],
   "source": [
    "import pandas as pd\n",
    "\n",
    "# Create a Series\n",
    "s = pd.Series([1, 2, 3, 4, 5])\n",
    "\n",
    "# Create a DataFrame\n",
    "df = pd.DataFrame({'A': [1, 2, 3], 'B': [4, 5, 6], 'C': [7, 8, 9]})\n",
    "\n",
    "# Print the Series and DataFrame\n",
    "print(s)\n",
    "print(df)\n"
   ]
  },
  {
   "cell_type": "markdown",
   "id": "5549f1ad",
   "metadata": {},
   "source": [
    "# question 05"
   ]
  },
  {
   "cell_type": "raw",
   "id": "2be2a035",
   "metadata": {},
   "source": [
    "What are some common functions you can use to manipulate data in a Pandas DataFrame? Can\n",
    "you give an example of when you might use one of these functions?\n",
    "There are many functions available in Pandas to manipulate data in a DataFrame. Here are some common functions and their uses:\n",
    "\n",
    "head(n) and tail(n) - these functions return the first n rows or last n rows of a DataFrame. These are useful for quickly inspecting a DataFrame.\n",
    "\n",
    "info() - this function returns information about a DataFrame, including the number of rows and columns, data types, and memory usage. This is useful for understanding the structure of a DataFrame.\n",
    "\n",
    "describe() - this function computes summary statistics for each column of a DataFrame, such as count, mean, standard deviation, minimum, and maximum values. This is useful for quickly getting an overview of the data in a DataFrame.\n",
    "\n",
    "loc[] and iloc[] - these functions allow you to select specific rows and columns from a DataFrame based on their labels or indices, respectively. For example, df.loc[:, 'column_name'] selects all rows from the column_name column of df.\n",
    "\n",
    "drop() - this function allows you to remove rows or columns from a DataFrame. For example, df.drop(['column_name'], axis=1) removes the column_name column from df.\n",
    "\n",
    "groupby() - this function groups the rows of a DataFrame based on the values in one or more columns, and allows you to compute aggregate functions for each group. For example, df.groupby('column_name').mean() computes the mean value of each column for each group of rows with the same value in the column_name column.\n",
    "\n",
    "apply() - this function applies a function to each row or column of a DataFrame. For example, df.apply(lambda x: x['column1'] + x['column2'], axis=1) computes the sum of the values in columns column1 and column2 for each row of df.\n",
    "\n",
    "merge() - this function combines two DataFrames based on a common column. For example, pd.merge(df1, df2, on='column_name') combines df1 and df2 on the column_name column.\n",
    "\n",
    "These are just a few of the many functions available in Pandas for manipulating data in a DataFrame. The specific function you use depends on the task at hand. For example, you might use groupby() to analyze trends in your data over time, or drop() to remove irrelevant columns from your analysis."
   ]
  },
  {
   "cell_type": "markdown",
   "id": "ac66baa9",
   "metadata": {},
   "source": [
    "# question 06"
   ]
  },
  {
   "cell_type": "raw",
   "id": "bad94f09",
   "metadata": {},
   "source": [
    "Q6. Which of the following is mutable in nature Series, DataFrame, Panel?\n",
    "Both Series and DataFrame are mutable in nature, which means you can change their values after they have been created. However, Panel is deprecated in the latest version of Pandas and has been replaced with the more flexible Panel4D and PanelND, both of which are also mutable."
   ]
  },
  {
   "cell_type": "markdown",
   "id": "f4407af8",
   "metadata": {},
   "source": [
    "# question 07"
   ]
  },
  {
   "cell_type": "raw",
   "id": "cf3b4182",
   "metadata": {},
   "source": [
    "Create a DataFrame using multiple Series. Explain with an example.\n",
    "You can create a DataFrame using multiple Series by passing a dictionary of Series objects to the DataFrame constructor. The keys of the dictionary will become the column names of the DataFrame, and the values will become the Series themselves."
   ]
  },
  {
   "cell_type": "code",
   "execution_count": 5,
   "id": "7ee742c3",
   "metadata": {},
   "outputs": [
    {
     "name": "stdout",
     "output_type": "stream",
     "text": [
      "     Name  Age  Gender\n",
      "0   Alice   25  Female\n",
      "1     Bob   30    Male\n",
      "2  Claire   27  Female\n"
     ]
    }
   ],
   "source": [
    "import pandas as pd\n",
    "\n",
    "# create Series for each column of the DataFrame\n",
    "name = pd.Series(['Alice', 'Bob', 'Claire'])\n",
    "age = pd.Series([25, 30, 27])\n",
    "gender = pd.Series(['Female', 'Male', 'Female'])\n",
    "\n",
    "# create a dictionary of Series objects\n",
    "data = {'Name': name, 'Age': age, 'Gender': gender}\n",
    "\n",
    "# create a DataFrame from the dictionary\n",
    "df = pd.DataFrame(data)\n",
    "\n",
    "# print the DataFrame\n",
    "print(df)\n"
   ]
  },
  {
   "cell_type": "code",
   "execution_count": null,
   "id": "12232380",
   "metadata": {},
   "outputs": [],
   "source": []
  }
 ],
 "metadata": {
  "kernelspec": {
   "display_name": "Python 3 (ipykernel)",
   "language": "python",
   "name": "python3"
  },
  "language_info": {
   "codemirror_mode": {
    "name": "ipython",
    "version": 3
   },
   "file_extension": ".py",
   "mimetype": "text/x-python",
   "name": "python",
   "nbconvert_exporter": "python",
   "pygments_lexer": "ipython3",
   "version": "3.9.12"
  }
 },
 "nbformat": 4,
 "nbformat_minor": 5
}
